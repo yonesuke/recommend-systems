{
 "cells": [
  {
   "cell_type": "code",
   "execution_count": 1,
   "metadata": {},
   "outputs": [],
   "source": [
    "import polars as pl\n",
    "import os\n",
    "import matplotlib.pyplot as plt"
   ]
  },
  {
   "cell_type": "code",
   "execution_count": 2,
   "metadata": {},
   "outputs": [],
   "source": [
    "dir_data = '../data/ml-10M100K'"
   ]
  },
  {
   "cell_type": "code",
   "execution_count": 3,
   "metadata": {},
   "outputs": [
    {
     "data": {
      "text/html": [
       "<div><style>\n",
       ".dataframe > thead > tr,\n",
       ".dataframe > tbody > tr {\n",
       "  text-align: right;\n",
       "  white-space: pre-wrap;\n",
       "}\n",
       "</style>\n",
       "<small>shape: (5, 3)</small><table border=\"1\" class=\"dataframe\"><thead><tr><th>movie_id</th><th>title</th><th>genres</th></tr><tr><td>str</td><td>str</td><td>list[str]</td></tr></thead><tbody><tr><td>&quot;1&quot;</td><td>&quot;Toy Story (199…</td><td>[&quot;Adventure&quot;, &quot;Animation&quot;, … &quot;Fantasy&quot;]</td></tr><tr><td>&quot;2&quot;</td><td>&quot;Jumanji (1995)…</td><td>[&quot;Adventure&quot;, &quot;Children&quot;, &quot;Fantasy&quot;]</td></tr><tr><td>&quot;3&quot;</td><td>&quot;Grumpier Old M…</td><td>[&quot;Comedy&quot;, &quot;Romance&quot;]</td></tr><tr><td>&quot;4&quot;</td><td>&quot;Waiting to Exh…</td><td>[&quot;Comedy&quot;, &quot;Drama&quot;, &quot;Romance&quot;]</td></tr><tr><td>&quot;5&quot;</td><td>&quot;Father of the …</td><td>[&quot;Comedy&quot;]</td></tr></tbody></table></div>"
      ],
      "text/plain": [
       "shape: (5, 3)\n",
       "┌──────────┬───────────────────────────────────┬───────────────────────────────────┐\n",
       "│ movie_id ┆ title                             ┆ genres                            │\n",
       "│ ---      ┆ ---                               ┆ ---                               │\n",
       "│ str      ┆ str                               ┆ list[str]                         │\n",
       "╞══════════╪═══════════════════════════════════╪═══════════════════════════════════╡\n",
       "│ 1        ┆ Toy Story (1995)                  ┆ [\"Adventure\", \"Animation\", … \"Fa… │\n",
       "│ 2        ┆ Jumanji (1995)                    ┆ [\"Adventure\", \"Children\", \"Fanta… │\n",
       "│ 3        ┆ Grumpier Old Men (1995)           ┆ [\"Comedy\", \"Romance\"]             │\n",
       "│ 4        ┆ Waiting to Exhale (1995)          ┆ [\"Comedy\", \"Drama\", \"Romance\"]    │\n",
       "│ 5        ┆ Father of the Bride Part II (199… ┆ [\"Comedy\"]                        │\n",
       "└──────────┴───────────────────────────────────┴───────────────────────────────────┘"
      ]
     },
     "execution_count": 3,
     "metadata": {},
     "output_type": "execute_result"
    }
   ],
   "source": [
    "df_movies = (\n",
    "    pl.read_csv(\n",
    "        os.path.join(dir_data, 'movies.dat'),\n",
    "        has_header=False,\n",
    "        truncate_ragged_lines=True\n",
    "    )\n",
    "    .with_columns(pl.col('column_1').str.split('::'))\n",
    "    .with_columns(\n",
    "        pl.col('column_1').list[0].alias('movie_id'),\n",
    "        pl.col('column_1').list[1].alias('title'),\n",
    "        (\n",
    "            pl.when(pl.col('column_1').list.len() > 2)\n",
    "            .then(pl.col('column_1').list[2].str.split('|'))\n",
    "            .otherwise(pl.lit([]))\n",
    "            .alias('genres')\n",
    "        )\n",
    "    )\n",
    "    .drop('column_1')\n",
    ")\n",
    "df_movies.head()"
   ]
  },
  {
   "cell_type": "code",
   "execution_count": 4,
   "metadata": {},
   "outputs": [
    {
     "data": {
      "text/html": [
       "<div><style>\n",
       ".dataframe > thead > tr,\n",
       ".dataframe > tbody > tr {\n",
       "  text-align: right;\n",
       "  white-space: pre-wrap;\n",
       "}\n",
       "</style>\n",
       "<small>shape: (5, 4)</small><table border=\"1\" class=\"dataframe\"><thead><tr><th>user_id</th><th>movie_id</th><th>tag</th><th>timestamp</th></tr><tr><td>str</td><td>str</td><td>str</td><td>datetime[μs]</td></tr></thead><tbody><tr><td>&quot;15&quot;</td><td>&quot;4973&quot;</td><td>&quot;excellent!&quot;</td><td>2008-07-04 15:17:10</td></tr><tr><td>&quot;20&quot;</td><td>&quot;1747&quot;</td><td>&quot;politics&quot;</td><td>2007-08-28 01:17:47</td></tr><tr><td>&quot;20&quot;</td><td>&quot;1747&quot;</td><td>&quot;satire&quot;</td><td>2007-08-28 01:17:47</td></tr><tr><td>&quot;20&quot;</td><td>&quot;2424&quot;</td><td>&quot;chick flick 21…</td><td>2007-08-28 01:17:15</td></tr><tr><td>&quot;20&quot;</td><td>&quot;2424&quot;</td><td>&quot;hanks&quot;</td><td>2007-08-28 01:17:15</td></tr></tbody></table></div>"
      ],
      "text/plain": [
       "shape: (5, 4)\n",
       "┌─────────┬──────────┬─────────────────┬─────────────────────┐\n",
       "│ user_id ┆ movie_id ┆ tag             ┆ timestamp           │\n",
       "│ ---     ┆ ---      ┆ ---             ┆ ---                 │\n",
       "│ str     ┆ str      ┆ str             ┆ datetime[μs]        │\n",
       "╞═════════╪══════════╪═════════════════╪═════════════════════╡\n",
       "│ 15      ┆ 4973     ┆ excellent!      ┆ 2008-07-04 15:17:10 │\n",
       "│ 20      ┆ 1747     ┆ politics        ┆ 2007-08-28 01:17:47 │\n",
       "│ 20      ┆ 1747     ┆ satire          ┆ 2007-08-28 01:17:47 │\n",
       "│ 20      ┆ 2424     ┆ chick flick 212 ┆ 2007-08-28 01:17:15 │\n",
       "│ 20      ┆ 2424     ┆ hanks           ┆ 2007-08-28 01:17:15 │\n",
       "└─────────┴──────────┴─────────────────┴─────────────────────┘"
      ]
     },
     "execution_count": 4,
     "metadata": {},
     "output_type": "execute_result"
    }
   ],
   "source": [
    "df_tags = (\n",
    "    pl.read_csv(\n",
    "        os.path.join(dir_data, 'tags.dat'),\n",
    "        has_header=False,\n",
    "    )\n",
    "    .with_columns(pl.col('column_1').str.split('::'))\n",
    "    .with_columns(\n",
    "        pl.col('column_1').list[0].alias('user_id'),\n",
    "        pl.col('column_1').list[1].alias('movie_id'),\n",
    "        pl.col('column_1').list[2].str.to_lowercase().alias('tag'),\n",
    "        pl.from_epoch(pl.col('column_1').list[3].cast(pl.Int32)).alias('timestamp')\n",
    "    )\n",
    "    .drop('column_1')\n",
    ")\n",
    "df_tags.head()"
   ]
  },
  {
   "cell_type": "code",
   "execution_count": 5,
   "metadata": {},
   "outputs": [
    {
     "data": {
      "text/html": [
       "<div><style>\n",
       ".dataframe > thead > tr,\n",
       ".dataframe > tbody > tr {\n",
       "  text-align: right;\n",
       "  white-space: pre-wrap;\n",
       "}\n",
       "</style>\n",
       "<small>shape: (5, 4)</small><table border=\"1\" class=\"dataframe\"><thead><tr><th>movie_id</th><th>title</th><th>genres</th><th>tag</th></tr><tr><td>str</td><td>str</td><td>list[str]</td><td>list[str]</td></tr></thead><tbody><tr><td>&quot;1&quot;</td><td>&quot;Toy Story (199…</td><td>[&quot;Adventure&quot;, &quot;Animation&quot;, … &quot;Fantasy&quot;]</td><td>[&quot;pixar&quot;, &quot;pixar&quot;, … &quot;comedy&quot;]</td></tr><tr><td>&quot;2&quot;</td><td>&quot;Jumanji (1995)…</td><td>[&quot;Adventure&quot;, &quot;Children&quot;, &quot;Fantasy&quot;]</td><td>[&quot;for children&quot;, &quot;game&quot;, … &quot;robin williams&quot;]</td></tr><tr><td>&quot;3&quot;</td><td>&quot;Grumpier Old M…</td><td>[&quot;Comedy&quot;, &quot;Romance&quot;]</td><td>[&quot;funniest movies&quot;, &quot;comedinha de velhinhos engraã§ada&quot;, … &quot;walter matthau&quot;]</td></tr><tr><td>&quot;4&quot;</td><td>&quot;Waiting to Exh…</td><td>[&quot;Comedy&quot;, &quot;Drama&quot;, &quot;Romance&quot;]</td><td>[&quot;girl movie&quot;]</td></tr><tr><td>&quot;5&quot;</td><td>&quot;Father of the …</td><td>[&quot;Comedy&quot;]</td><td>[&quot;steve martin&quot;, &quot;pregnancy&quot;, … &quot;steve martin&quot;]</td></tr></tbody></table></div>"
      ],
      "text/plain": [
       "shape: (5, 4)\n",
       "┌──────────┬─────────────────────────────┬────────────────────────────┬────────────────────────────┐\n",
       "│ movie_id ┆ title                       ┆ genres                     ┆ tag                        │\n",
       "│ ---      ┆ ---                         ┆ ---                        ┆ ---                        │\n",
       "│ str      ┆ str                         ┆ list[str]                  ┆ list[str]                  │\n",
       "╞══════════╪═════════════════════════════╪════════════════════════════╪════════════════════════════╡\n",
       "│ 1        ┆ Toy Story (1995)            ┆ [\"Adventure\", \"Animation\", ┆ [\"pixar\", \"pixar\", …       │\n",
       "│          ┆                             ┆ … \"Fa…                     ┆ \"comedy\"]                  │\n",
       "│ 2        ┆ Jumanji (1995)              ┆ [\"Adventure\", \"Children\",  ┆ [\"for children\", \"game\", … │\n",
       "│          ┆                             ┆ \"Fanta…                    ┆ \"robi…                     │\n",
       "│ 3        ┆ Grumpier Old Men (1995)     ┆ [\"Comedy\", \"Romance\"]      ┆ [\"funniest movies\",        │\n",
       "│          ┆                             ┆                            ┆ \"comedinha d…              │\n",
       "│ 4        ┆ Waiting to Exhale (1995)    ┆ [\"Comedy\", \"Drama\",        ┆ [\"girl movie\"]             │\n",
       "│          ┆                             ┆ \"Romance\"]                 ┆                            │\n",
       "│ 5        ┆ Father of the Bride Part II ┆ [\"Comedy\"]                 ┆ [\"steve martin\",           │\n",
       "│          ┆ (199…                       ┆                            ┆ \"pregnancy\", … …           │\n",
       "└──────────┴─────────────────────────────┴────────────────────────────┴────────────────────────────┘"
      ]
     },
     "execution_count": 5,
     "metadata": {},
     "output_type": "execute_result"
    }
   ],
   "source": [
    "df_movies = df_movies.join(\n",
    "    df_tags.group_by('movie_id').agg(pl.col('tag')),\n",
    "    on='movie_id', how='left'\n",
    ")\n",
    "df_movies.head()"
   ]
  },
  {
   "cell_type": "code",
   "execution_count": 6,
   "metadata": {},
   "outputs": [
    {
     "data": {
      "text/html": [
       "<div><style>\n",
       ".dataframe > thead > tr,\n",
       ".dataframe > tbody > tr {\n",
       "  text-align: right;\n",
       "  white-space: pre-wrap;\n",
       "}\n",
       "</style>\n",
       "<small>shape: (5, 4)</small><table border=\"1\" class=\"dataframe\"><thead><tr><th>user_id</th><th>movie_id</th><th>rating</th><th>timestamp</th></tr><tr><td>str</td><td>str</td><td>f64</td><td>datetime[μs]</td></tr></thead><tbody><tr><td>&quot;1&quot;</td><td>&quot;122&quot;</td><td>5.0</td><td>1996-08-02 11:24:06</td></tr><tr><td>&quot;1&quot;</td><td>&quot;185&quot;</td><td>5.0</td><td>1996-08-02 10:58:45</td></tr><tr><td>&quot;1&quot;</td><td>&quot;231&quot;</td><td>5.0</td><td>1996-08-02 10:56:32</td></tr><tr><td>&quot;1&quot;</td><td>&quot;292&quot;</td><td>5.0</td><td>1996-08-02 10:57:01</td></tr><tr><td>&quot;1&quot;</td><td>&quot;316&quot;</td><td>5.0</td><td>1996-08-02 10:56:32</td></tr></tbody></table></div>"
      ],
      "text/plain": [
       "shape: (5, 4)\n",
       "┌─────────┬──────────┬────────┬─────────────────────┐\n",
       "│ user_id ┆ movie_id ┆ rating ┆ timestamp           │\n",
       "│ ---     ┆ ---      ┆ ---    ┆ ---                 │\n",
       "│ str     ┆ str      ┆ f64    ┆ datetime[μs]        │\n",
       "╞═════════╪══════════╪════════╪═════════════════════╡\n",
       "│ 1       ┆ 122      ┆ 5.0    ┆ 1996-08-02 11:24:06 │\n",
       "│ 1       ┆ 185      ┆ 5.0    ┆ 1996-08-02 10:58:45 │\n",
       "│ 1       ┆ 231      ┆ 5.0    ┆ 1996-08-02 10:56:32 │\n",
       "│ 1       ┆ 292      ┆ 5.0    ┆ 1996-08-02 10:57:01 │\n",
       "│ 1       ┆ 316      ┆ 5.0    ┆ 1996-08-02 10:56:32 │\n",
       "└─────────┴──────────┴────────┴─────────────────────┘"
      ]
     },
     "execution_count": 6,
     "metadata": {},
     "output_type": "execute_result"
    }
   ],
   "source": [
    "df_ratings = (\n",
    "    pl.read_csv(\n",
    "        os.path.join(dir_data, 'ratings.dat'),\n",
    "        has_header=False,\n",
    "    )\n",
    "    .with_columns(pl.col('column_1').str.split('::'))\n",
    "    .with_columns(\n",
    "        pl.col('column_1').list[0].alias('user_id'),\n",
    "        pl.col('column_1').list[1].alias('movie_id'),\n",
    "        pl.col('column_1').list[2].cast(pl.Float64).alias('rating'),\n",
    "        pl.from_epoch(pl.col('column_1').list[3].cast(pl.Int32)).alias('timestamp')\n",
    "    )\n",
    "    .drop('column_1')\n",
    ")\n",
    "df_ratings.head()"
   ]
  },
  {
   "cell_type": "markdown",
   "metadata": {},
   "source": [
    "## 色々な情報一覧"
   ]
  },
  {
   "cell_type": "code",
   "execution_count": 7,
   "metadata": {},
   "outputs": [
    {
     "name": "stdout",
     "output_type": "stream",
     "text": [
      "映画数: 10681\n",
      "uniqueなtitleの映画数: 10537\n"
     ]
    }
   ],
   "source": [
    "print('映画数:', df_movies.shape[0])\n",
    "print('uniqueなtitleの映画数:', df_movies.get_column('title').n_unique())"
   ]
  },
  {
   "cell_type": "code",
   "execution_count": 8,
   "metadata": {},
   "outputs": [
    {
     "name": "stdout",
     "output_type": "stream",
     "text": [
      "ジャンル数: 20\n",
      "ジャンル一覧: ['Drama', 'Fantasy', 'Romance', 'Crime', 'Animation', 'Documentary', 'Action', 'Sci-Fi', 'Western', '(no genres listed)', 'Film-Noir', 'Children', 'IMAX', 'Horror', 'Musical', 'Thriller', 'Adventure', 'Comedy', 'Mystery', 'War']\n"
     ]
    },
    {
     "data": {
      "image/png": "[encoded data removed]",
      "text/plain": [
       "<Figure size 640x480 with 1 Axes>"
      ]
     },
     "metadata": {},
     "output_type": "display_data"
    }
   ],
   "source": [
    "print('ジャンル数:', df_movies.explode('genres').get_column('genres').drop_nulls().n_unique())\n",
    "print('ジャンル一覧:', df_movies.explode('genres').get_column('genres').drop_nulls().unique().to_list())\n",
    "plt.bar(\n",
    "    df_movies.get_column('genres').explode().value_counts(sort=True).drop_nulls().get_column('genres'),\n",
    "    df_movies.get_column('genres').explode().value_counts(sort=True).drop_nulls().get_column('count')\n",
    ")\n",
    "plt.xticks(rotation=90)\n",
    "plt.show()"
   ]
  },
  {
   "cell_type": "code",
   "execution_count": 9,
   "metadata": {},
   "outputs": [
    {
     "name": "stdout",
     "output_type": "stream",
     "text": [
      "タグ数: 15240\n",
      "タグレコード数: 95580\n",
      "タグが付与されている映画数: 7601\n",
      "タグ付与最初日: 2005-12-23 04:49:47\n",
      "タグ付与最終日: 2009-01-05 04:13:10\n"
     ]
    }
   ],
   "source": [
    "print('タグ数:', df_tags.get_column('tag').n_unique())\n",
    "print('タグレコード数:', df_tags.shape[0])\n",
    "print('タグが付与されている映画数:', df_tags.get_column('movie_id').n_unique())\n",
    "print('タグ付与最初日:', df_tags.get_column('timestamp').min())\n",
    "print('タグ付与最終日:', df_tags.get_column('timestamp').max())"
   ]
  },
  {
   "cell_type": "code",
   "execution_count": 10,
   "metadata": {},
   "outputs": [
    {
     "name": "stdout",
     "output_type": "stream",
     "text": [
      "ユーザー数: 69878\n",
      "レーティング付与映画数: 10677\n",
      "レーティング付与最初日: 1995-01-09 11:46:49\n",
      "レーティング付与最終日: 2009-01-05 05:02:16\n"
     ]
    }
   ],
   "source": [
    "print('ユーザー数:', df_ratings.get_column('user_id').n_unique())\n",
    "print('レーティング付与映画数:', df_ratings.get_column('movie_id').n_unique())\n",
    "print('レーティング付与最初日:', df_ratings.get_column('timestamp').min())\n",
    "print('レーティング付与最終日:', df_ratings.get_column('timestamp').max())"
   ]
  },
  {
   "cell_type": "code",
   "execution_count": 11,
   "metadata": {},
   "outputs": [
    {
     "data": {
      "image/png": "[encoded data removed]",
      "text/plain": [
       "<Figure size 640x480 with 1 Axes>"
      ]
     },
     "metadata": {},
     "output_type": "display_data"
    }
   ],
   "source": [
    "# ratings分布\n",
    "plt.bar(\n",
    "    df_ratings.get_column('rating').value_counts(sort=True).get_column('rating'),\n",
    "    df_ratings.get_column('rating').value_counts(sort=True).get_column('count'),\n",
    "    width=0.3\n",
    ")\n",
    "plt.show()"
   ]
  },
  {
   "cell_type": "code",
   "execution_count": null,
   "metadata": {},
   "outputs": [],
   "source": []
  }
 ],
 "metadata": {
  "kernelspec": {
   "display_name": "Python 3",
   "language": "python",
   "name": "python3"
  },
  "language_info": {
   "codemirror_mode": {
    "name": "ipython",
    "version": 3
   },
   "file_extension": ".py",
   "mimetype": "text/x-python",
   "name": "python",
   "nbconvert_exporter": "python",
   "pygments_lexer": "ipython3",
   "version": "3.11.8"
  }
 },
 "nbformat": 4,
 "nbformat_minor": 2
}
