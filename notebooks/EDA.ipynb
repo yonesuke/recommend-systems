{
 "cells": [
  {
   "cell_type": "code",
   "execution_count": null,
   "metadata": {},
   "outputs": [],
   "source": [
    "import pandas as pd\n",
    "import os\n",
    "import matplotlib.pyplot as plt"
   ]
  },
  {
   "cell_type": "code",
   "execution_count": null,
   "metadata": {},
   "outputs": [],
   "source": [
    "dir_data = '../data/ml-10M100K'"
   ]
  },
  {
   "cell_type": "code",
   "execution_count": null,
   "metadata": {},
   "outputs": [],
   "source": [
    "# movies\n",
    "m_cols = ['movie_id', 'title', 'genres']\n",
    "df_movies = pd.read_csv(\n",
    "    os.path.join(dir_data, 'movies.dat'),\n",
    "    sep='::',\n",
    "    encoding='latin-1',\n",
    "    engine='python',\n",
    "    names=m_cols,\n",
    ")\n",
    "df_movies['genres'] = df_movies['genres'].str.split('|')\n",
    "df_movies.head()"
   ]
  },
  {
   "cell_type": "code",
   "execution_count": null,
   "metadata": {},
   "outputs": [],
   "source": [
    "# user-defined tags\n",
    "t_cols = ['user_id', 'movie_id', 'tag', 'timestamp']\n",
    "df_tags = pd.read_csv(\n",
    "    os.path.join(dir_data, 'tags.dat'),\n",
    "    sep='::',\n",
    "    engine='python',\n",
    "    names=t_cols,\n",
    ")\n",
    "df_tags['tag'] = df_tags['tag'].str.lower()\n",
    "df_tags['timestamp'] = pd.to_datetime(df_tags['timestamp'], unit='s')\n",
    "df_tags.head()"
   ]
  },
  {
   "cell_type": "code",
   "execution_count": null,
   "metadata": {},
   "outputs": [],
   "source": [
    "# merge movies and tags\n",
    "df_movie_tags = df_tags.groupby('movie_id')['tag'].apply(list).reset_index()\n",
    "df_movies = df_movies.merge(df_movie_tags, on='movie_id', how='left')\n",
    "df_movies.head()"
   ]
  },
  {
   "cell_type": "code",
   "execution_count": null,
   "metadata": {},
   "outputs": [],
   "source": [
    "# ratings\n",
    "r_cols = ['user_id', 'movie_id', 'rating', 'timestamp']\n",
    "df_ratings = pd.read_csv(\n",
    "    os.path.join(dir_data, 'ratings.dat'),\n",
    "    sep='::',\n",
    "    engine='python',\n",
    "    names=r_cols,\n",
    ")\n",
    "df_ratings['timestamp'] = pd.to_datetime(df_ratings['timestamp'], unit='s')\n",
    "df_ratings.head()"
   ]
  },
  {
   "cell_type": "markdown",
   "metadata": {},
   "source": [
    "## 色々な情報一覧"
   ]
  },
  {
   "cell_type": "code",
   "execution_count": null,
   "metadata": {},
   "outputs": [],
   "source": [
    "print('映画数:', df_movies.shape[0])\n",
    "print('uniqueなtitleの映画数:', df_movies['title'].nunique())\n",
    "# 複数回現れる映画が一つある\n",
    "title_multi = df_movies.value_counts(subset='title').reset_index().where(lambda x: x['count'] > 1).dropna()['title'][0]\n",
    "print('複数含まれている映画:', title_multi)"
   ]
  },
  {
   "cell_type": "code",
   "execution_count": null,
   "metadata": {},
   "outputs": [],
   "source": [
    "# genres\n",
    "print('ジャンル数:', df_movies.explode('genres')['genres'].nunique()\n",
    "      )\n",
    "print('ジャンル一覧:', df_movies.explode('genres')['genres'].unique())\n",
    "\n",
    "plt.bar(\n",
    "    df_movies.explode('genres')['genres'].value_counts().index,\n",
    "    df_movies.explode('genres')['genres'].value_counts().values\n",
    ")\n",
    "plt.xticks(rotation=90)\n",
    "plt.xlabel('genre')\n",
    "plt.ylabel('number of movies')\n",
    "plt.show()"
   ]
  },
  {
   "cell_type": "code",
   "execution_count": null,
   "metadata": {},
   "outputs": [],
   "source": [
    "# tags\n",
    "print('タグ数:', df_tags['tag'].nunique())\n",
    "print('タグレコード数:', df_tags.shape[0])\n",
    "print('タグが付いている映画数:', df_movie_tags['tag'].apply(lambda x: len(x) > 0).sum())\n",
    "print('タグ付与最初日:', df_tags['timestamp'].min())\n",
    "print('タグ付与最終日:', df_tags['timestamp'].max())\n",
    "df_tags.groupby(df_tags['timestamp'].dt.to_period('Q'))['tag'].count().plot.bar()\n",
    "plt.show()"
   ]
  },
  {
   "cell_type": "code",
   "execution_count": null,
   "metadata": {},
   "outputs": [],
   "source": [
    "# ratings\n",
    "print('ユーザ数:', df_ratings['user_id'].nunique())\n",
    "print('レーティング付与映画数:', df_ratings['movie_id'].nunique())\n",
    "print('レーティング付与最初日:', df_ratings['timestamp'].min())\n",
    "print('レーティング付与最終日:', df_ratings['timestamp'].max())\n",
    "df_ratings.groupby(df_ratings['timestamp'].dt.to_period('Q'))['rating'].count().plot.bar()\n",
    "plt.show()"
   ]
  },
  {
   "cell_type": "code",
   "execution_count": null,
   "metadata": {},
   "outputs": [],
   "source": [
    "# ratings付与数上位映画\n",
    "df_ratings['movie_id'].value_counts().reset_index().merge(df_movies[['movie_id', 'title']], on='movie_id')[['title', 'count']].head(20)"
   ]
  },
  {
   "cell_type": "code",
   "execution_count": null,
   "metadata": {},
   "outputs": [],
   "source": [
    "# ratings分布\n",
    "df_ratings['rating'].value_counts().sort_index().plot.bar()\n",
    "plt.show()"
   ]
  },
  {
   "cell_type": "code",
   "execution_count": null,
   "metadata": {},
   "outputs": [],
   "source": [
    "# データ量が多いので1000人に絞る\n",
    "valid_user_ids = sorted(df_ratings['user_id'].unique()[:1000])\n",
    "(\n",
    "    df_ratings[df_ratings['user_id'].isin(valid_user_ids)]\n",
    "    .groupby('user_id').agg({'movie_id': len})\n",
    "    .agg(['min', 'max', 'mean', 'median', 'std', 'count'])\n",
    ")"
   ]
  },
  {
   "cell_type": "code",
   "execution_count": null,
   "metadata": {},
   "outputs": [],
   "source": [
    "(\n",
    "    df_ratings[df_ratings['user_id'].isin(valid_user_ids)]\n",
    "    .groupby('movie_id').agg({'user_id': len})\n",
    "    .agg(['min', 'max', 'mean', 'median', 'std', 'count'])\n",
    ")"
   ]
  },
  {
   "cell_type": "code",
   "execution_count": null,
   "metadata": {},
   "outputs": [],
   "source": []
  }
 ],
 "metadata": {
  "kernelspec": {
   "display_name": "Python 3",
   "language": "python",
   "name": "python3"
  },
  "language_info": {
   "codemirror_mode": {
    "name": "ipython",
    "version": 3
   },
   "file_extension": ".py",
   "mimetype": "text/x-python",
   "name": "python",
   "nbconvert_exporter": "python",
   "pygments_lexer": "ipython3",
   "version": "3.11.8"
  }
 },
 "nbformat": 4,
 "nbformat_minor": 2
}
